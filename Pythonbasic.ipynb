{
 "cells": [
  {
   "cell_type": "markdown",
   "metadata": {
    "colab_type": "text",
    "id": "view-in-github"
   },
   "source": [
    "<a href=\"https://colab.research.google.com/github/Majida1206/PYTHON/blob/main/Untitled5.ipynb\" target=\"_parent\"><img src=\"https://colab.research.google.com/assets/colab-badge.svg\" alt=\"Open In Colab\"/></a>"
   ]
  },
  {
   "cell_type": "code",
   "execution_count": null,
   "metadata": {
    "id": "acMjByiz2EAs"
   },
   "outputs": [],
   "source": [
    "A grocery store wants a program to calculate the total bill for a customer.\n",
    "a. Store the prices of items in a dictionary (e.g., {'apple': 10, 'milk': 50})\n",
    "b. Take the items purchased and their quantities as input.\n",
    "c. Calculate and display the total bill amount."
   ]
  },
  {
   "cell_type": "code",
   "execution_count": null,
   "metadata": {
    "colab": {
     "base_uri": "https://localhost:8080/"
    },
    "collapsed": true,
    "id": "ex-SjEXu4nJt",
    "jupyter": {
     "outputs_hidden": true
    },
    "outputId": "27a82a87-1671-436e-aef0-a8665261cf33"
   },
   "outputs": [
    {
     "name": "stdout",
     "output_type": "stream",
     "text": [
      "total bill is 410\n"
     ]
    }
   ],
   "source": [
    "grocery_items = {'apple':20,'orange':30,'milk':40,'oil':50,'curd':40}\n",
    "purchased_items = {'apple':2,'orange':3,'oil':4,'curd':2}\n",
    "\n",
    "total_bill = 0\n",
    "for item,price in grocery_items.items():\n",
    "  if item in purchased_items:\n",
    "    total_bill += price * purchased_items[item]\n",
    "print(f'total bill is {total_bill}')\n",
    "\n",
    "\n",
    "\n",
    "\n",
    "\n",
    "\n",
    "\n",
    "\n",
    "\n",
    "\n",
    "\n",
    "\n",
    "\n"
   ]
  },
  {
   "cell_type": "markdown",
   "metadata": {
    "id": "nC0oTlHeVakN"
   },
   "source": [
    "2. Student Grade Calculator\n",
    "A teacher wants a program to calculate grades for students based on their marks.\n",
    "a. Store marks for 5 subjects in a list.\n",
    "b. Calculate the average and determine the grade:\n",
    "o 90+ -> A\n",
    "o 70-89 -> B\n",
    "o 50-69 -> C\n",
    "o <50 -> F\n",
    "c. Display the average and the grade"
   ]
  },
  {
   "cell_type": "code",
   "execution_count": 62,
   "metadata": {
    "colab": {
     "base_uri": "https://localhost:8080/"
    },
    "id": "aiXRKK3D9jfF",
    "outputId": "9173721c-6d15-4c67-de5b-812dbf559e3d"
   },
   "outputs": [
    {
     "name": "stdout",
     "output_type": "stream",
     "text": [
      "52.0\n",
      "C grade\n"
     ]
    }
   ],
   "source": [
    "a=[40,50,60,30,80]\n",
    "total=sum(a)\n",
    "count=len(a)\n",
    "average = total/count\n",
    "print(average)\n",
    "#Average=52 , Grade= C\n",
    "if (average >= 90 ) :\n",
    "  print('A Grade')\n",
    "elif (average >= 89):\n",
    "  print('B Grade')\n",
    "elif (average >= 50):\n",
    "  print('C grade')\n",
    "else:\n",
    "  print('fail')\n"
   ]
  },
  {
   "cell_type": "markdown",
   "metadata": {
    "id": "lyousUJ2eP4g"
   },
   "source": [
    "3. A movie theatre wants to automate ticket booking for customers.\n",
    "a. Use a list to store the available seats (e.g., [1, 2, 3, ..., 20]).\n",
    "b. Allow the customer to book a seat by entering the seat number.\n",
    "c. After booking, remove the seat from the list of available seats.\n",
    "d. Display the remaining available seats"
   ]
  },
  {
   "cell_type": "markdown",
   "metadata": {
    "id": "cXWQtc_CVZUA"
   },
   "source": []
  },
  {
   "cell_type": "code",
   "execution_count": 8,
   "metadata": {
    "id": "yLo6ufdtLZyt"
   },
   "outputs": [
    {
     "name": "stdout",
     "output_type": "stream",
     "text": [
      "Available seats: [1, 2, 3, 4, 5, 6, 7, 8, 9, 10, 11, 12, 13, 14, 15, 16, 17, 18, 19, 20]\n"
     ]
    },
    {
     "name": "stdin",
     "output_type": "stream",
     "text": [
      "Enter a seat_number:  6\n"
     ]
    },
    {
     "name": "stdout",
     "output_type": "stream",
     "text": [
      "6\n",
      "Sorry, that seat is already booked or does not exist.\n",
      "Remaining available seats: [1, 2, 3, 4, 5, 6, 7, 8, 9, 10, 11, 12, 13, 14, 15, 16, 17, 18, 19, 20]\n"
     ]
    }
   ],
   "source": [
    "available_seats = list(range(1,21))\n",
    "print(\"Available seats:\", available_seats)\n",
    "seat = print(int(input('Enter a seat_number: ')))\n",
    "if seat in  available_seats :\n",
    "    available_seats.remove(seat)\n",
    "    print(f\"Seat {seat_number} booked successfully!\")\n",
    "else:\n",
    "    print(\"Sorry, that seat is already booked or does not exist.\")\n",
    "\n",
    "      \n",
    "print(\"Remaining available seats:\", available_seats)  \n",
    "\n",
    "\n",
    "\n",
    "\n",
    "\n",
    "\n",
    "\n",
    "\n",
    "\n"
   ]
  },
  {
   "cell_type": "code",
   "execution_count": 11,
   "metadata": {},
   "outputs": [
    {
     "name": "stdout",
     "output_type": "stream",
     "text": [
      "Available seats: [1, 2, 3, 4, 5, 6, 7, 8, 9, 10, 11, 12, 13, 14, 15, 16, 17, 18, 19, 20]\n"
     ]
    },
    {
     "name": "stdin",
     "output_type": "stream",
     "text": [
      "Enter the seat number you want to book:  3\n"
     ]
    },
    {
     "name": "stdout",
     "output_type": "stream",
     "text": [
      "Seat 3 booked successfully!\n",
      "Remaining available seats: [1, 2, 4, 5, 6, 7, 8, 9, 10, 11, 12, 13, 14, 15, 16, 17, 18, 19, 20]\n"
     ]
    }
   ],
   "source": [
    "# Available seats list from 1 to 20\n",
    "available_seats = list(range(1, 21))\n",
    "\n",
    "# Show available seats\n",
    "print(\"Available seats:\", available_seats)\n",
    "\n",
    "# Ask the user to choose a seat number\n",
    "seat_number = int(input(\"Enter the seat number you want to book: \"))\n",
    "\n",
    "# Check if the seat is available\n",
    "if seat_number in available_seats:\n",
    "    available_seats.remove(seat_number)\n",
    "    print(f\"Seat {seat_number} booked successfully!\")\n",
    "else:\n",
    "    print(\"Sorry, that seat is already booked or does not exist.\")\n",
    "\n",
    "# Show remaining seats\n",
    "print(\"Remaining available seats:\", available_seats)\n"
   ]
  },
  {
   "cell_type": "code",
   "execution_count": null,
   "metadata": {
    "id": "3kygOzq8qREg"
   },
   "outputs": [],
   "source": [
    "# Initialize available seats\n",
    "available_seats = list(range(1, 21))\n",
    "\n",
    "def display_available_seats():\n",
    "    print(\"Available Seats:\", available_seats)\n",
    "\n",
    "def book_seat(seat_number):\n",
    "    if seat_number in available_seats:\n",
    "        available_seats.remove(seat_number)\n",
    "        print(f\"Seat {seat_number} has been successfully booked!\")\n",
    "    else:\n",
    "        print(f\"Seat {seat_number} is already booked or does not exist.\")\n",
    "\n",
    "# Main program loop\n",
    "while True:\n",
    "    display_available_seats()\n",
    "    \n",
    "    try:\n",
    "        seat = int(input(\"Enter the seat number you want to book (0 to exit): \"))\n",
    "    except ValueError:\n",
    "        print(\"Please enter a valid seat number!\")\n",
    "        continue\n",
    "    \n",
    "    if seat == 0:\n",
    "        print(\"Booking process ended.\")\n",
    "        break\n",
    "    \n",
    "    book_seat(seat)\n",
    "\n",
    "print(\"Final Available Seats:\", available_seats)\n"
   ]
  },
  {
   "cell_type": "markdown",
   "metadata": {
    "id": "q2EWYx_I4j_Y"
   },
   "source": []
  }
 ],
 "metadata": {
  "colab": {
   "authorship_tag": "ABX9TyMBQbAiW6SYw/lY09zkoGI1",
   "include_colab_link": true,
   "provenance": []
  },
  "kernelspec": {
   "display_name": "Python 3 (ipykernel)",
   "language": "python",
   "name": "python3"
  },
  "language_info": {
   "codemirror_mode": {
    "name": "ipython",
    "version": 3
   },
   "file_extension": ".py",
   "mimetype": "text/x-python",
   "name": "python",
   "nbconvert_exporter": "python",
   "pygments_lexer": "ipython3",
   "version": "3.12.7"
  }
 },
 "nbformat": 4,
 "nbformat_minor": 4
}
